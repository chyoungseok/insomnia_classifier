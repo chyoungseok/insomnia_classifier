{
 "cells": [
  {
   "cell_type": "code",
   "execution_count": null,
   "metadata": {},
   "outputs": [],
   "source": [
    "import os\n",
    "import numpy as np\n",
    "import pandas as pd\n",
    "from tqdm.notebook import tqdm\n",
    "from sklearn.model_selection import train_test_split\n",
    "\n",
    "import torch    \n",
    "from torch.utils.data import Dataset, DataLoader\n",
    "\n",
    "from utils import add_zero_to_id, load_single_ppg, pad_and_create_mask"
   ]
  },
  {
   "cell_type": "code",
   "execution_count": 3,
   "metadata": {},
   "outputs": [
    {
     "data": {
      "application/vnd.jupyter.widget-view+json": {
       "model_id": "b274bf62843d4f07ab3c955bf4c254b6",
       "version_major": 2,
       "version_minor": 0
      },
      "text/plain": [
       "  0%|          | 0/198 [00:00<?, ?it/s]"
      ]
     },
     "metadata": {},
     "output_type": "display_data"
    },
    {
     "name": "stdout",
     "output_type": "stream",
     "text": [
      "Shape of data: (198, 3305831)\n",
      "Shape of mask: (198, 3305831)\n",
      "Save whole data (ppg, label, mask)...\n",
      "Train data save (ppg, label, mask) ...\n",
      "Test data save (ppg, label, mask) ...\n",
      "(158, 3305831) (158,) (158, 3305831)\n",
      "(40, 3305831) (40,) (40, 3305831)\n"
     ]
    }
   ],
   "source": [
    "path_prepro = 'Y:/MESA_0.7.0/ppg_preprocessed'\n",
    "df_psm = pd.read_csv(\"./df_delected_psm.csv\", index_col=0)\n",
    "\n",
    "list_fn = os.listdir(path_prepro)\n",
    "sr_fn = pd.Series(list_fn)\n",
    "\n",
    "# Load data\n",
    "list_ppg = []\n",
    "list_labels = []\n",
    "for id in tqdm(df_psm.index): # df_psm의 id 순서대로 파일 업로드\n",
    "    if sr_fn.str.contains(add_zero_to_id(id)).sum() > 0: # id와 match되는 파일인 경우, 업로드\n",
    "        list_ppg.append(load_single_ppg(os.path.join(path_prepro, 'mesa-sleep-%s.h5' % add_zero_to_id(id)))) # ppg data append\n",
    "        list_labels.append(df_psm.loc[id, 'insmnia5']) # label append\n",
    "\n",
    "padded_list_data, mask = pad_and_create_mask(list_ppg, verobose=True) # zero padding된 뒷 부분을 학습에 관여하지 않게 하기 위하여, padding 된 부분에 대한 mask 생성\n",
    "list_labels = np.array(list_labels)\n",
    "\n",
    "# Save whole data\n",
    "print(\"Save whole data (ppg, label, mask)...\")\n",
    "np.save(os.path.join(\"Y:/MESA_0.7.0/ppg_preprocessed_npy\", \"ppg_ins_hc.npy\"), padded_list_data)\n",
    "np.save(os.path.join(\"Y:/MESA_0.7.0/ppg_preprocessed_npy\", \"mask_ins_hc.npy\"), mask)\n",
    "np.save(os.path.join(\"Y:/MESA_0.7.0/ppg_preprocessed_npy\", \"label_ins_hc.npy\"), list_labels)\n",
    "\n",
    "# Train test split and save \n",
    "data_train, data_test, labels_train, labels_test, mask_train, mask_test = \\\n",
    "    train_test_split(padded_list_data, list_labels, mask, test_size=0.2, random_state=42, shuffle=True)\n",
    "\n",
    "# Save train data\n",
    "path_npy_train = \"Y:/MESA_0.7.0/ppg_preprocessed_npy/train\"\n",
    "print(\"Train data save (ppg, label, mask) ...\")\n",
    "np.save(os.path.join(path_npy_train, 'ppg_ins_hc.npy'), data_train)\n",
    "np.save(os.path.join(path_npy_train, 'label_ins_hc.npy'), labels_train)\n",
    "np.save(os.path.join(path_npy_train, 'mask_ins_hc.npy'), mask_train)\n",
    "\n",
    "# Save test data\n",
    "path_npy_test = \"Y:/MESA_0.7.0/ppg_preprocessed_npy/test\"\n",
    "print(\"Test data save (ppg, label, mask) ...\")\n",
    "np.save(os.path.join(path_npy_test, 'ppg_ins_hc.npy'), data_test)\n",
    "np.save(os.path.join(path_npy_test, 'label_ins_hc.npy'), labels_test)\n",
    "np.save(os.path.join(path_npy_test, 'mask_ins_hc.npy'), mask_test)\n",
    "\n",
    "print(data_train.shape, labels_train.shape, mask_train.shape)\n",
    "print(data_test.shape, labels_test.shape, mask_test.shape)"
   ]
  },
  {
   "cell_type": "code",
   "execution_count": 4,
   "metadata": {},
   "outputs": [],
   "source": [
    "# Custom Dataset 생성\n",
    "class gen_dataset(Dataset):\n",
    "    def __init__(self, num_classes=2, sampling_rate=34.13, train_or_test='default'):\n",
    "\n",
    "        if 'train' in train_or_test.lower():\n",
    "            path_load = 'Y:/MESA_0.7.0/ppg_preprocessed_npy/train'\n",
    "        elif 'test' in train_or_test.lower():\n",
    "            path_load = 'Y:/MESA_0.7.0/ppg_preprocessed_npy/test'\n",
    "        else:\n",
    "            path_load = 'Y:/MESA_0.7.0/ppg_preprocessed_npy'\n",
    "                    \n",
    "        self.data = np.load(os.path.join(path_load, \"ppg_ins_hc.npy\"))\n",
    "        self.labels = np.load(os.path.join(path_load, \"label_ins_hc.npy\"))\n",
    "        self.mask = np.load(os.path.join(path_load, \"mask_ins_hc.npy\"))\n",
    "\n",
    "        self.num_samples = self.data.shape[0]\n",
    "        self.num_classes = num_classes\n",
    "        self.sampling_rate = sampling_rate \n",
    "        self.train_or_test = train_or_test\n",
    "\n",
    "    def __len__(self):\n",
    "        return self.num_samples\n",
    "\n",
    "    def __getitem__(self, idx):\n",
    "        signal = self.data[idx]\n",
    "        label = self.labels[idx]\n",
    "        # PyTorch 텐서로 변환\n",
    "        return torch.tensor(signal, dtype=torch.float32).unsqueeze(0), torch.tensor(label, dtype=torch.long)"
   ]
  },
  {
   "cell_type": "code",
   "execution_count": 5,
   "metadata": {},
   "outputs": [],
   "source": [
    "train_dataset = gen_dataset(train_or_test='train')\n",
    "test_dataset = gen_dataset(train_or_test='test')"
   ]
  },
  {
   "cell_type": "code",
   "execution_count": 6,
   "metadata": {},
   "outputs": [],
   "source": [
    "train_loader = DataLoader(train_dataset, batch_size=32, shuffle=True)\n",
    "test_loader = DataLoader(test_dataset, batch_size=32, shuffle=False)"
   ]
  },
  {
   "cell_type": "code",
   "execution_count": null,
   "metadata": {},
   "outputs": [],
   "source": []
  },
  {
   "cell_type": "code",
   "execution_count": null,
   "metadata": {},
   "outputs": [],
   "source": []
  },
  {
   "cell_type": "code",
   "execution_count": null,
   "metadata": {},
   "outputs": [],
   "source": []
  },
  {
   "cell_type": "code",
   "execution_count": null,
   "metadata": {},
   "outputs": [],
   "source": []
  },
  {
   "cell_type": "code",
   "execution_count": null,
   "metadata": {},
   "outputs": [
    {
     "name": "stdout",
     "output_type": "stream",
     "text": [
      "[1.37971059e-05 1.37971059e-05]\n",
      "tensor([1.3797e-05, 0.0000e+00, 0.0000e+00,  ..., 0.0000e+00, 0.0000e+00,\n",
      "        0.0000e+00])\n",
      "tensor([1., 0., 0.,  ..., 0., 0., 0.])\n"
     ]
    }
   ],
   "source": [
    "print(list_ppg[0][-2:])\n",
    "print(padded_list_data[0][1474347-1:])\n",
    "print(mask[0][1474347-1:])"
   ]
  },
  {
   "cell_type": "code",
   "execution_count": null,
   "metadata": {},
   "outputs": [
    {
     "data": {
      "text/plain": [
       "torch.Size([198, 3305831])"
      ]
     },
     "execution_count": 13,
     "metadata": {},
     "output_type": "execute_result"
    }
   ],
   "source": [
    "padded_list_data.shape"
   ]
  }
 ],
 "metadata": {
  "kernelspec": {
   "display_name": "ins_classifier",
   "language": "python",
   "name": "python3"
  },
  "language_info": {
   "codemirror_mode": {
    "name": "ipython",
    "version": 3
   },
   "file_extension": ".py",
   "mimetype": "text/x-python",
   "name": "python",
   "nbconvert_exporter": "python",
   "pygments_lexer": "ipython3",
   "version": "3.8.20"
  }
 },
 "nbformat": 4,
 "nbformat_minor": 2
}
